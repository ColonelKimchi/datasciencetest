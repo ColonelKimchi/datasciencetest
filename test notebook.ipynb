{
    "cells": [
        {
            "metadata": {},
            "cell_type": "markdown",
            "source": "test notebook for learning"
        },
        {
            "metadata": {},
            "cell_type": "code",
            "source": "\n// @hidden_cell\nimport com.ibm.ibmos2spark.CloudObjectStorage\nvar configurationName = \"os_6f6aa346dce44f51831b24aaf3544146_configs\"\ndef getCredentials(): scala.collection.mutable.HashMap[String, String] = {\n    return scala.collection.mutable.HashMap[String, String] (\n    \"endPoint\"-> \"https://s3.private.us.cloud-object-storage.appdomain.cloud\",\n    \"apiKey\"->\"fAiH2coE91s_tNOCCaOCrY5p3jXCb_DSfNoWC-utbutn\",\n    \"serviceId\"->\"iam-ServiceId-da6faaa5-613c-463d-ae5b-3a850cff0e29\",\n    \"iamServiceEndpoint\" -> \"https://iam.cloud.ibm.com/oidc/token\")\n}\n\nvar cos = new CloudObjectStorage(sc, getCredentials(), configurationName, \"bluemix_cos\")\n\nimport org.apache.spark.sql.SparkSession\nval spark = SparkSession.\n    builder().\n    getOrCreate()\nval dfData1 = spark.\n    read.format(\"org.apache.spark.sql.execution.datasources.csv.CSVFileFormat\").\n    option(\"header\", \"true\").\n    option(\"inferSchema\", \"true\").\n    load(cos.url(\"testproject-donotdelete-pr-7m0tyrbvdsj6ko\", \"data.csv\"))\n\ndfData1.show(5)\n",
            "execution_count": 3,
            "outputs": [
                {
                    "output_type": "stream",
                    "text": "+----+----------+----+--------------------+---------+----------------+-----------------+----------------+---------------+--------------------+------------+-------------+-----------+--------+----------+-----+\n|Make|     Model|Year|    Engine Fuel Type|Engine HP|Engine Cylinders|Transmission Type|   Driven_Wheels|Number of Doors|     Market Category|Vehicle Size|Vehicle Style|highway MPG|city mpg|Popularity| MSRP|\n+----+----------+----+--------------------+---------+----------------+-----------------+----------------+---------------+--------------------+------------+-------------+-----------+--------+----------+-----+\n| BMW|1 Series M|2011|premium unleaded ...|      335|               6|           MANUAL|rear wheel drive|              2|Factory Tuner,Lux...|     Compact|        Coupe|         26|      19|      3916|46135|\n| BMW|  1 Series|2011|premium unleaded ...|      300|               6|           MANUAL|rear wheel drive|              2|  Luxury,Performance|     Compact|  Convertible|         28|      19|      3916|40650|\n| BMW|  1 Series|2011|premium unleaded ...|      300|               6|           MANUAL|rear wheel drive|              2|Luxury,High-Perfo...|     Compact|        Coupe|         28|      20|      3916|36350|\n| BMW|  1 Series|2011|premium unleaded ...|      230|               6|           MANUAL|rear wheel drive|              2|  Luxury,Performance|     Compact|        Coupe|         28|      18|      3916|29450|\n| BMW|  1 Series|2011|premium unleaded ...|      230|               6|           MANUAL|rear wheel drive|              2|              Luxury|     Compact|  Convertible|         28|      18|      3916|34500|\n+----+----------+----+--------------------+---------+----------------+-----------------+----------------+---------------+--------------------+------------+-------------+-----------+--------+----------+-----+\nonly showing top 5 rows\n\n",
                    "name": "stdout"
                },
                {
                    "output_type": "display_data",
                    "data": {
                        "text/plain": "configurationName = os_6f6aa346dce44f51831b24aaf3544146_configs\ncos = com.ibm.ibmos2spark.CloudObjectStorage@cc34ca66\nspark = org.apache.spark.sql.SparkSession@7387cdcd\ndfData1 = [Make: string, Model: string ... 14 more fields]\n"
                    },
                    "metadata": {}
                },
                {
                    "output_type": "display_data",
                    "data": {
                        "text/plain": "getCredentials: ()scala.collection.mutable.HashMap[String,String]\n"
                    },
                    "metadata": {}
                },
                {
                    "output_type": "execute_result",
                    "execution_count": 3,
                    "data": {
                        "text/plain": "[Make: string, Model: string ... 14 more fields]"
                    },
                    "metadata": {}
                }
            ]
        },
        {
            "metadata": {},
            "cell_type": "code",
            "source": "",
            "execution_count": null,
            "outputs": []
        }
    ],
    "metadata": {
        "kernelspec": {
            "name": "scala",
            "display_name": "Scala 2.12 with Spark",
            "language": "scala"
        },
        "language_info": {
            "name": "scala",
            "version": "2.12.15",
            "file_extension": ".scala",
            "pygments_lexer": "scala",
            "mimetype": "text/x-scala",
            "codemirror_mode": "text/x-scala"
        }
    },
    "nbformat": 4,
    "nbformat_minor": 1
}